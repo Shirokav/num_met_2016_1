{
 "cells": [
  {
   "cell_type": "markdown",
   "metadata": {},
   "source": [
    "                      Нижегородский государственный университет имени Н. И. Лобачевского\n",
    "\n",
    "                                          Радиофизический факультет\n",
    "\n",
    "                                            Кафедра математики\n",
    "                                            \n",
    "####                 Отчет по лабораторной работе \"Численное решение систем линейных уравнений, численное интегрирование\"\n",
    "\n",
    "                                              \n",
    "                                                 Вариант 19\n",
    "                                                                                  \n",
    "                                                                                  \n",
    "                                                                                  \n",
    "                                                                                  \n",
    "                                                                          Выполнила: Широкова Анастасия, 430 гр.\n",
    "                                          \n",
    "                                                                          Проверил: Шиндин А. В.\n",
    "\n",
    "                                         Нижний Новгород, 2016 год."
   ]
  },
  {
   "cell_type": "markdown",
   "metadata": {},
   "source": [
    "##  Содержание\n",
    "1. Задача\n",
    "2. Цели работы\n",
    "3. Используемые алгоритмы\n",
    "4. Программа\n",
    "5. Анализ результатов \n",
    "\n",
    "\n",
    "###   1) Задача.\n",
    "1. Выбрать свой вариант системы (номер варианта остается с предыдущей лабораторной работы). Кроме самой системы в варианте должны быть указаны:\n",
    " * число уравнений системы\n",
    " * требуемый метод/методы решения системы\n",
    " * необходимая относительная точность решения системы\n",
    " * требуемый метод вычисления интеграла\n",
    " * необходимая относительная точность вычисления интеграла (если не указана, то брать — 0,01).\n",
    "\n",
    "2.  Вычислить определенный интеграл двумя методами\n",
    " * Заданным методом\n",
    " * С помощью функции numpy.trapz(…), графически провести сравнение с результатами предыдущего метода. Разницу объяснить.\n",
    "\n",
    "3. Построить график подынтегральной функции, а также график зависимости значения интеграла от номера итерации предлагаемого метода численного интегрирования.\n",
    "\n",
    "4. Решить систему заданным методом \n",
    " * Для 1000 уравнений\n",
    " * Для 10000 уравнений\n",
    "\n",
    "5. Построить график решения X(i), а также график зависимости нормы решения от номера итерации предлагаемого метода численного решения системы.\n",
    "\n",
    "6. Решить систему с помощью функции numpy.linalg.solve(…). Результат графически сравнить с решением, полученным в пункте 4. Разницу объяснить.\n",
    "\n",
    "###   2) Цель работы:\n",
    "* Освоить методы численного интегрирования. Вычислить определенный интеграл с использованием **формулы Буля** с относительной точностью **0,01**\n",
    "* Научиться численно решать системы линейных уравнений. Решение систему из 1000 и 10000 уравнений **методом релаксации**  с относительной точностью **0,01**."
   ]
  },
  {
   "cell_type": "markdown",
   "metadata": {},
   "source": [
    "### Дана система:\n",
    "$$x_1=1$$\n",
    "$$x_{i-1}-\\frac{4+sin(i+1)}{i^2}x_i+x_{i+1}=-4+\\int_{0}^{1} \\frac{cos(3t)}{1+10it^2}\\,dt , i=2,3,...,n-1$$\n",
    "$$x_n=4$$"
   ]
  },
  {
   "cell_type": "markdown",
   "metadata": {},
   "source": [
    "##   3. Используемые алгоритмы\n",
    "#### 3.1 Вычисление определенного интеграла методом Буля\n",
    "Вычисляемый интеграл можно рассматривать как оператор, имеющий областью определения пространство $H_{[a,b]}$, а областью значений пространство $R_1$.\n",
    "$$ \\int_{a}^{b} f(x) dx $$\n",
    "Тогда оператор $А$ можно аппроксимировать последовательностью конечноразмерных операторов $A_n$, имеющих областью определения пространство $R_n$, а областью значений пространство $R_1$\n",
    "Выбирая в качестве интерполяционного многочлена многочлен Лагранжа, будем иметь:\n",
    "$$\\int\\limits_a^b f(x)\\,dt=\\sum_{k=0}^nC_k^{(n)}f(x_k^{(n)})+R_n[f],$$ где\n",
    "Kвадратурная формула Ньютона-Котеса:\n",
    "$$C_k^{(n)}=\\int_{a}^{b} \\prod\\limits_{i=0,i\\ne k}^n {\\frac {x-x_i^{(n)}} {x_k^{(n)}-x_i^{(n)}}} \\,dx$$ \n",
    "остаточный член:\n",
    "$$R_n[f]=\\frac {f^{(n+1)}(\\zeta)} {(n+1)!} \\int_{a}^{b}\\prod\\limits_{i=0}^n (x-x_i^{(n)}) \\,dx$$ \n",
    "                                     **В квадратурной формуле Буля:**\n",
    "$$\\sum\\limits_{k=0}^4 C_k^{(4)}f(x_k^{(4)})=\\frac {\\beta-\\alpha}{ 90} (7f(\\alpha)+32f(\\frac {3\\alpha+\\beta} 4) + 12f(\\frac {\\alpha+\\beta} 2)+32f(\\frac {\\alpha+3\\beta} 4)+7f(\\beta))$$\n",
    "$$R_4[f]\\le max_{x\\in [\\alpha,\\beta]} |f^{(7)}(x)| \\frac {8(\\alpha-\\beta)^7} {945}$$"
   ]
  },
  {
   "cell_type": "markdown",
   "metadata": {},
   "source": [
    "## 3.2 Решение системы уравнений методом релаксации\n",
    "Метод релаксации является итерационным. \n",
    "Представим матрицу $A$ в виде $A=L+D+R$, где $L$ - нижняя треугольная матрица с нулевыми диагональными элементами, $D$ - диагональная матрица, $R$ - верхняя треугольная матрица\n",
    "Тогда $$x^{k+1}= t(D+tL)^{-1}((1-t)D-tR)x^k+t(D+tL)^{-1}B$$ где t параметр, причем $0<t<2$"
   ]
  },
  {
   "cell_type": "markdown",
   "metadata": {},
   "source": [
    "##   4. Программа"
   ]
  },
  {
   "cell_type": "code",
   "execution_count": 1,
   "metadata": {
    "collapsed": true
   },
   "outputs": [],
   "source": [
    "import time\n",
    "import matplotlib.pyplot as plt\n",
    "import numpy as np\n",
    "import math\n",
    "import scipy.integrate as integrate\n",
    "import numpy.linalg as lin\n",
    "%matplotlib inline"
   ]
  },
  {
   "cell_type": "code",
   "execution_count": 2,
   "metadata": {
    "collapsed": false
   },
   "outputs": [
    {
     "name": "stdout",
     "output_type": "stream",
     "text": [
      "График подынтегральной функции\n"
     ]
    },
    {
     "data": {
      "image/png": "[encoded data removed]",
      "text/plain": [
       "<matplotlib.figure.Figure at 0x7b592b0>"
      ]
     },
     "metadata": {},
     "output_type": "display_data"
    }
   ],
   "source": [
    "n=1000\n",
    "a=0; b=1\n",
    "def f(x,i):\n",
    "    return math.cos(3*x)/(1+10*i*x**2)\n",
    "def tra(x):\n",
    "    return f(x,10000)\n",
    "xst = np.arange(0,1,0.01)\n",
    "trap = [tra(l) for l in xst]\n",
    "t = np.linspace(0,1,100)\n",
    "z = [f(x,7) for x in t ] \n",
    "print ('График подынтегральной функции')\n",
    "plt.plot(t,z,'m')\n",
    "plt.xlabel('x')\n",
    "plt.ylabel('y')\n",
    "plt.title('Pod int function')\n",
    "plt.grid()"
   ]
  },
  {
   "cell_type": "code",
   "execution_count": 4,
   "metadata": {
    "collapsed": false
   },
   "outputs": [
    {
     "name": "stdout",
     "output_type": "stream",
     "text": [
      "Зависимость интеграла от номера итерации\n",
      "Номер интерации:  27\n",
      "Значение интеграла:  0.004857805800298816\n",
      "интеграл,вычисленный с помощью trapz: 0.0065007961934\n"
     ]
    },
    {
     "data": {
      "image/png": "[encoded data removed]",
      "text/plain": [
       "<matplotlib.figure.Figure at 0x7f866a0>"
      ]
     },
     "metadata": {},
     "output_type": "display_data"
    }
   ],
   "source": [
    "def summ(k,i):\n",
    "    tz=0\n",
    "    e=0\n",
    "    vs=0\n",
    "    for o in range(0,k):\n",
    "        tz=o/k\n",
    "        e+=1/k\n",
    "        vs+=(e-tz)/90*(7*f(tz,i)+32*f((3*tz+e)/4,i)+12*f((tz+e)/2,i)+32*f((tz+3*e)/4,i)+7*f(e,i))\n",
    "    return vs    \n",
    "v=np.arange(1,27,1)\n",
    "c=[summ(s,10000) for s in v]#введи здесь номер интеграла\n",
    "print('Зависимость интеграла от номера итерации')\n",
    "plt.scatter(v,c)\n",
    "plt.xlabel('Number of iterations')\n",
    "plt.ylabel('Integral')\n",
    "plt.title('')\n",
    "plt.grid()\n",
    "\n",
    "def integralr(i):\n",
    "    N=2\n",
    "    p=summ(1,i)\n",
    "    while math.fabs((summ(N,i)-summ(N-1,i))/summ(N-1,i))>0.01:\n",
    "        N=N+1\n",
    "        p=summ(N-1,i)\n",
    "    print('Номер интерации: ',N)\n",
    "    return p    \n",
    "print ('Значение интеграла: ',integralr(10000))\n",
    "\n",
    "NTR=np.trapz(trap, x=None, dx=0.01)\n",
    "print('интеграл,вычисленный с помощью trapz:',NTR)"
   ]
  },
  {
   "cell_type": "code",
   "execution_count": 5,
   "metadata": {
    "collapsed": false
   },
   "outputs": [
    {
     "name": "stdout",
     "output_type": "stream",
     "text": [
      "3\n",
      "time: 3.059054 sec\n"
     ]
    }
   ],
   "source": [
    "# Решение системы 1000 уравнений \n",
    "# Задание вспомагательных матриц\n",
    "\n",
    "start = time.time()\n",
    "n=1000\n",
    "t=1.2\n",
    "A=np.zeros((n,n))\n",
    "A[0,0]=1\n",
    "A[n-1,n-1]=1\n",
    "for i in range(1,n-1):\n",
    "    A[i,i-1]=1\n",
    "    A[i,i+1]=1\n",
    "    A[i,i]=-(4+math.sin(i+1)/(i**2))\n",
    "L=np.zeros((n,n))\n",
    "D=np.zeros((n,n))\n",
    "for i in range (0,n):\n",
    "    D[i,i]=A[i,i]\n",
    "for i in range(0,n):\n",
    "    for j in range (0,i):\n",
    "        L[i,j]=A[i,j]\n",
    "R=A-D-L\n",
    "H=(D+t*L)\n",
    "Hi=t*lin.inv(H)\n",
    "T1=((1-t)*D-t*R)\n",
    "T2=lin.inv(H)\n",
    "Ti=np.dot(T2,T1)\n",
    "B=np.zeros((n,1))\n",
    "B[0,0]=1\n",
    "B[n-1,0]=4\n",
    "for i in range (1,n-1):\n",
    "    N=2\n",
    "    p=summ(1,i)\n",
    "    while math.fabs((summ(N,i)-summ(N-1,i))/summ(N-1,i))>0.01:\n",
    "        N=N+1\n",
    "        p=summ(N-1,i)\n",
    "    B[i,0]=-4+p\n",
    "Hb=np.dot(Hi,B)\n",
    "X0=np.zeros((n,1))\n",
    "X =np.dot(Ti,X0)+Hb\n",
    "Norm=[]\n",
    "konets=0\n",
    "nor=lin.norm(X-X0)\n",
    "nor1=lin.norm(X)\n",
    "norT=lin.norm(Ti)\n",
    "Norm.append(nor1)\n",
    "while nor/nor1>0.01:\n",
    "    X0=X\n",
    "    X =np.dot(Ti,X0)+Hb\n",
    "    nor1=lin.norm(X)\n",
    "    nor=lin.norm(X-X0)\n",
    "    Norm.append(nor1)\n",
    "    konets+=1\n",
    "print (konets)\n",
    "print ('time: %f' % (time.time() - start), 'sec')"
   ]
  },
  {
   "cell_type": "code",
   "execution_count": 6,
   "metadata": {
    "collapsed": false
   },
   "outputs": [
    {
     "name": "stdout",
     "output_type": "stream",
     "text": [
      "График X(i)\n"
     ]
    },
    {
     "data": {
      "image/png": "[encoded data removed]",
      "text/plain": [
       "<matplotlib.figure.Figure at 0x7b8ba20>"
      ]
     },
     "metadata": {},
     "output_type": "display_data"
    }
   ],
   "source": [
    "\n",
    "print('График X(i)')\n",
    "t=np.linspace(0,n,n)\n",
    "plt.scatter (t,X,s=1)\n",
    "\n",
    "plt.xlabel('i')\n",
    "plt.ylabel('X(i)')\n",
    "plt.title('')\n",
    "plt.grid()\n"
   ]
  },
  {
   "cell_type": "code",
   "execution_count": 8,
   "metadata": {
    "collapsed": false,
    "scrolled": true
   },
   "outputs": [
    {
     "data": {
      "image/png": "[encoded data removed]",
      "text/plain": [
       "<matplotlib.figure.Figure at 0xb98e588>"
      ]
     },
     "metadata": {},
     "output_type": "display_data"
    }
   ],
   "source": [
    "Xpy=lin.solve(A,B)\n",
    "plt.scatter (t,Xpy,s=4)\n",
    "plt.xlabel('i')\n",
    "plt.ylabel('X(i)')\n",
    "plt.title('')\n",
    "plt.grid()"
   ]
  },
  {
   "cell_type": "code",
   "execution_count": 11,
   "metadata": {
    "collapsed": false
   },
   "outputs": [
    {
     "name": "stdout",
     "output_type": "stream",
     "text": [
      "Разница решений методом релаксации и встроенной фунцией lin.solve\n"
     ]
    },
    {
     "data": {
      "image/png": "[encoded data removed]",
      "text/plain": [
       "<matplotlib.figure.Figure at 0xb9bb128>"
      ]
     },
     "metadata": {},
     "output_type": "display_data"
    }
   ],
   "source": [
    "print('Разница решений методом релаксации и встроенной фунцией lin.solve')\n",
    "plt.scatter (t,X-Xpy,s=1)\n",
    "plt.grid()"
   ]
  },
  {
   "cell_type": "code",
   "execution_count": 12,
   "metadata": {
    "collapsed": false
   },
   "outputs": [
    {
     "name": "stdout",
     "output_type": "stream",
     "text": [
      "График Norm(i)\n"
     ]
    },
    {
     "data": {
      "text/plain": [
       "[0, 3, 52, 64]"
      ]
     },
     "execution_count": 12,
     "metadata": {},
     "output_type": "execute_result"
    },
    {
     "data": {
      "image/png": "[encoded data removed]",
      "text/plain": [
       "<matplotlib.figure.Figure at 0x192b20f0>"
      ]
     },
     "metadata": {},
     "output_type": "display_data"
    }
   ],
   "source": [
    "print('График Norm(i)')\n",
    "plt.plot (Norm,marker=\"o\",ls='')\n",
    "plt.axis([0, konets, 52,64])"
   ]
  },
  {
   "cell_type": "markdown",
   "metadata": {},
   "source": [
    "## Результаты:"
   ]
  },
  {
   "cell_type": "code",
   "execution_count": 13,
   "metadata": {
    "collapsed": false,
    "scrolled": true
   },
   "outputs": [
    {
     "name": "stdout",
     "output_type": "stream",
     "text": [
      "Номер интерации:  27\n",
      "Значение интеграла:  0.004857805800298816\n",
      "Зависимость интеграла от номера итерации\n",
      "интеграл,вычисленный с помощью trapz: 0.0065007961934\n"
     ]
    },
    {
     "data": {
      "text/plain": [
       "<matplotlib.collections.PathCollection at 0xad61518>"
      ]
     },
     "execution_count": 13,
     "metadata": {},
     "output_type": "execute_result"
    },
    {
     "data": {
      "image/png": "[encoded data removed]",
      "text/plain": [
       "<matplotlib.figure.Figure at 0xad0e9b0>"
      ]
     },
     "metadata": {},
     "output_type": "display_data"
    }
   ],
   "source": [
    "print ('Значение интеграла: ',integralr(10000))\n",
    "print('Зависимость интеграла от номера итерации')\n",
    "plt.scatter(v,c)\n",
    "plt.xlabel('Number of iterations')\n",
    "plt.ylabel('Integral')\n",
    "print('интеграл,вычисленный с помощью trapz:',NTR)\n",
    "plt.scatter(26,NTR,c='m')"
   ]
  },
  {
   "cell_type": "markdown",
   "metadata": {},
   "source": [
    "##### *Результаты вычисления интеграла методом Буля и с помощью встроенной функции numpy.trapz совпадают в точностью до 3 знака после запятой.Встроенная функция вычисляет интеграл с помощью формулы трапеций, в которой используется интерполяционный многочлен Лагранжа второго порядка, тогда как в формуле Буля интерполяция производилась многочленом четвертого порядка. Метод Буля более точный.*"
   ]
  },
  {
   "cell_type": "markdown",
   "metadata": {},
   "source": [
    "### Решение системы"
   ]
  },
  {
   "cell_type": "markdown",
   "metadata": {},
   "source": [
    "##### *Видно, что решение методом релаксации и с помощью встроенной функции совпадают c точностью до третьего знака после запятой.*"
   ]
  },
  {
   "cell_type": "markdown",
   "metadata": {},
   "source": [
    "Кроме того данная программа может решить систему из 10000 уравнений. "
   ]
  },
  {
   "cell_type": "code",
   "execution_count": 14,
   "metadata": {
    "collapsed": false
   },
   "outputs": [
    {
     "name": "stdout",
     "output_type": "stream",
     "text": [
      "3\n",
      "time: 142.693864 sec\n"
     ]
    }
   ],
   "source": [
    "# Задание вспомагательных матриц\n",
    "\n",
    "start = time.time()\n",
    "n=10000\n",
    "t=1.2\n",
    "A=np.zeros((n,n))\n",
    "A[0,0]=1\n",
    "A[n-1,n-1]=1\n",
    "for i in range(1,n-1):\n",
    "    A[i,i-1]=1\n",
    "    A[i,i+1]=1\n",
    "    A[i,i]=-(4+math.sin(i+1)/(i**2))\n",
    "L=np.zeros((n,n))\n",
    "D=np.zeros((n,n))\n",
    "for i in range (0,n):\n",
    "    D[i,i]=A[i,i]\n",
    "for i in range(0,n):\n",
    "    for j in range (0,i):\n",
    "        L[i,j]=A[i,j]\n",
    "#R=A-D-L\n",
    "#H=(D+t*L)\n",
    "\n",
    "#T1=((1-t)*D-t*(A-D-L))\n",
    "#T2=lin.inv(D+t*L)\n",
    "Hi=t*lin.inv(D+t*L)\n",
    "D=np.dot(lin.inv(D+t*L),((1-t)*D-t*(A-D-L)))\n",
    "\n",
    "A=np.zeros((n,1))\n",
    "A[0,0]=1\n",
    "A[n-1,0]=4\n",
    "for i in range (1,n-1):\n",
    "    N=2\n",
    "    p=summ(1,i)\n",
    "    while math.fabs((summ(N,i)-summ(N-1,i))/summ(N-1,i))>0.01:\n",
    "        N=N+1\n",
    "        p=summ(N-1,i)\n",
    "    A[i,0]=-4+p\n",
    "Hi=np.dot(Hi,A)\n",
    "X0=np.zeros((n,1))\n",
    "X =np.dot(D,X0)+Hi\n",
    "Norm=[]\n",
    "konets=0\n",
    "nor=lin.norm(X-X0)\n",
    "nor1=lin.norm(X)\n",
    "norT=lin.norm(D)\n",
    "Norm.append(nor1)\n",
    "while nor/nor1>0.01:\n",
    "    X0=X\n",
    "    X =np.dot(D,X0)+Hi\n",
    "    nor1=lin.norm(X)\n",
    "    nor=lin.norm(X-X0)\n",
    "    Norm.append(nor1)\n",
    "    konets+=1\n",
    "print (konets)\n",
    "print ('time: %f' % (time.time() - start), 'sec')"
   ]
  }
 ],
 "metadata": {
  "anaconda-cloud": {},
  "kernelspec": {
   "display_name": "Python [Root]",
   "language": "python",
   "name": "Python [Root]"
  },
  "language_info": {
   "codemirror_mode": {
    "name": "ipython",
    "version": 3
   },
   "file_extension": ".py",
   "mimetype": "text/x-python",
   "name": "python",
   "nbconvert_exporter": "python",
   "pygments_lexer": "ipython3",
   "version": "3.5.2"
  }
 },
 "nbformat": 4,
 "nbformat_minor": 0
}
